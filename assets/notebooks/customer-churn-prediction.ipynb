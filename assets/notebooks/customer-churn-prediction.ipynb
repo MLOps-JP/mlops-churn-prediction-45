{
 "cells": [
  {
   "cell_type": "markdown",
   "metadata": {
    "id": "901362b6-065f-4d3a-a4a9-c286eabc76db",
    "tags": []
   },
   "source": [
    "# Introduction - Customer Churn Prediction notebook\n",
    "In this notebook, we illustrate how you can train a model for Churn Prediction using scikit learn. After training the model, you step through the instructions to deploy the model using Watson Machine Learning.\n",
    "\n",
    "This notebook is a variation of the original notebook reference in this github repo: https://github.com/elenalowery/cpd4_demo/blob/master/assets/jupyterlab/Predict_Customer_Churn_CPD4.ipynb\n"
   ]
  },
  {
   "cell_type": "code",
   "execution_count": null,
   "metadata": {
    "id": "afb1de27-9f9e-45b4-a88e-67fe8abcf420",
    "tags": []
   },
   "outputs": [],
   "source": [
    "# Install required Python modules\n",
    "!pip install sklearn-pandas > /dev/null\n"
   ]
  },
  {
   "cell_type": "markdown",
   "metadata": {
    "id": "572bf6fc-b3fa-4765-867d-dd312497968a"
   },
   "source": [
    "## Step 1: Review Use Case\n",
    "The analytics use case implemented in this notebook is telco churn prediction. It is a simple use case which illustrates typical process for model development and deployment using Cloud Pak for Data."
   ]
  },
  {
   "cell_type": "code",
   "execution_count": null,
   "metadata": {
    "id": "afd36214-4198-480f-ad4c-23614f1eca69",
    "tags": []
   },
   "outputs": [],
   "source": [
    "import subprocess\n",
    "CURRENT_BRANCH = subprocess.run(['git', 'rev-parse', '--abbrev-ref', 'HEAD'], stdout=subprocess.PIPE)\\\n",
    "    .stdout.strip().decode(\"utf-8\")\n",
    "\n",
    "if CURRENT_BRANCH in ['prd','uat']:\n",
    "    CURRENT_ENV=CURRENT_BRANCH\n",
    "else:\n",
    "    CURRENT_ENV='dev'\n",
    "    \n",
    "print('Current branch     : {}'.format(CURRENT_BRANCH))\n",
    "print('Current environment: {}'.format(CURRENT_ENV))"
   ]
  },
  {
   "cell_type": "code",
   "execution_count": null,
   "metadata": {
    "id": "dca07b8c-871c-4cb9-a2a5-8a746ab394f4",
    "tags": []
   },
   "outputs": [],
   "source": [
    "import pandas as pd\n",
    "customer_data_df=pd.read_csv('/userfs/assets/data_asset/CUSTOMER_DATA_ready-'+CURRENT_ENV+'.csv')\n",
    "customer_data_df.head(10)"
   ]
  },
  {
   "cell_type": "code",
   "execution_count": null,
   "metadata": {
    "id": "d4324ce5-704c-4a9a-bea7-e2c5cead0eee",
    "tags": []
   },
   "outputs": [],
   "source": [
    "# COPY the dataFrame into a new dataFrame called *data*\n",
    "data=customer_data_df.copy()"
   ]
  },
  {
   "cell_type": "code",
   "execution_count": null,
   "metadata": {
    "id": "e18a7462-7585-43db-8cff-dea602fb4c9f",
    "tags": []
   },
   "outputs": [],
   "source": [
    "# List all the columns\n",
    "print(data.columns)"
   ]
  },
  {
   "cell_type": "code",
   "execution_count": null,
   "metadata": {
    "id": "3bfb1942-b53f-487f-9cb4-9cbbc9cddb69",
    "tags": []
   },
   "outputs": [],
   "source": [
    "# Keep only the columns that are relevant for churn prediction\n",
    "data = data[['LONGDISTANCE', 'INTERNATIONAL', 'LOCAL', 'DROPPED', 'PAYMETHOD', 'LOCALBILLTYPE', 'LONGDISTANCEBILLTYPE', 'USAGE', 'RATEPLAN', 'GENDER','STATUS', 'CHILDREN', 'ESTINCOME', 'CAROWNER', 'AGE', 'CHURN']]\n",
    "data.head()\n"
   ]
  },
  {
   "cell_type": "markdown",
   "metadata": {
    "id": "d0b897c1-b6e3-4484-9636-21384a261d2a"
   },
   "source": [
    "## Step 2: Try the Random Forest model"
   ]
  },
  {
   "cell_type": "code",
   "execution_count": null,
   "metadata": {
    "id": "0abeb204-54bf-4c82-b279-c48e942406eb",
    "tags": []
   },
   "outputs": [],
   "source": [
    "import pandas as pd\n",
    "import sklearn\n",
    "pd.options.display.max_columns = 999\n",
    "\n",
    "import warnings\n",
    "warnings.filterwarnings('ignore')\n",
    "\n",
    "from scipy.stats import chi2_contingency,ttest_ind\n",
    "import matplotlib.pyplot as plt\n",
    "import seaborn as sns\n",
    "%matplotlib inline\n",
    "\n",
    "from sklearn.model_selection import train_test_split\n",
    "\n",
    "from sklearn.preprocessing import MinMaxScaler, LabelEncoder\n",
    "from sklearn.ensemble import RandomForestClassifier\n",
    "from sklearn.metrics import f1_score, accuracy_score, roc_curve, roc_auc_score\n",
    "\n",
    "import numpy as np\n",
    "\n",
    "import urllib3, requests, json"
   ]
  },
  {
   "cell_type": "code",
   "execution_count": null,
   "metadata": {
    "id": "c441c244-3cef-4cb9-9cf0-cf168f60efa1",
    "tags": []
   },
   "outputs": [],
   "source": [
    "#convert CHURN to 1/0\n",
    "le = LabelEncoder()\n",
    "data.loc[:,'CHURN']= le.fit_transform(data.loc[:,'CHURN'])\n",
    "data.head()"
   ]
  },
  {
   "cell_type": "code",
   "execution_count": null,
   "metadata": {
    "id": "9da76637-caa8-4e1c-b32b-06563166ac00",
    "tags": []
   },
   "outputs": [],
   "source": [
    "# define the label and features\n",
    "y = np.float32(data.CHURN)\n",
    "x = data.drop(['CHURN','RATEPLAN','GENDER','ESTINCOME','STATUS','AGE','USAGE'], axis = 1)"
   ]
  },
  {
   "cell_type": "code",
   "execution_count": null,
   "metadata": {
    "id": "ccffc32f-5ac8-41c2-b3ce-d5cac43d7785",
    "tags": []
   },
   "outputs": [],
   "source": [
    "x.columns"
   ]
  },
  {
   "cell_type": "code",
   "execution_count": null,
   "metadata": {
    "id": "459a3399-ab2e-47cd-a19f-055583861f08",
    "tags": []
   },
   "outputs": [],
   "source": [
    "# Apply the LabelEncoder to encode the input features in numeric form where applicable\n",
    "from sklearn_pandas import DataFrameMapper\n",
    "\n",
    "'''\n",
    "mapper = DataFrameMapper(\n",
    "    [('GENDER', LabelEncoder()),\n",
    "     ('STATUS', LabelEncoder()),\n",
    "     ('CHILDREN', None),\n",
    "     ('ESTINCOME',None),\n",
    "     ('CAROWNER', LabelEncoder()),\n",
    "     ('AGE',None),\n",
    "     ('LONGDISTANCE',None),\n",
    "     ('INTERNATIONAL',None),\n",
    "     ('LOCAL',None),\n",
    "     ('DROPPED',None),\n",
    "     ('PAYMETHOD',LabelEncoder()),\n",
    "     ('LOCALBILLTYPE',LabelEncoder()),\n",
    "     ('LONGDISTANCEBILLTYPE',LabelEncoder()),\n",
    "     ('USAGE',None),\n",
    "     ('RATEPLAN',None)\n",
    "    ]\n",
    ")\n",
    "'''\n",
    "\n",
    "mapper = DataFrameMapper(\n",
    "    [\n",
    "     ('CHILDREN', None),\n",
    "     ('CAROWNER', LabelEncoder()),\n",
    "     ('LONGDISTANCE',None),\n",
    "     ('INTERNATIONAL',None),\n",
    "     ('LOCAL',None),\n",
    "     ('DROPPED',None),\n",
    "     ('PAYMETHOD',LabelEncoder()),\n",
    "     ('LOCALBILLTYPE',LabelEncoder()),\n",
    "     ('LONGDISTANCEBILLTYPE',LabelEncoder())\n",
    "    ]\n",
    ")"
   ]
  },
  {
   "cell_type": "code",
   "execution_count": null,
   "metadata": {
    "id": "ff14d3e2-3eed-4f46-b48a-0a46ed3f097d",
    "tags": []
   },
   "outputs": [],
   "source": [
    "# split the data to training and testing set\n",
    "X_train, X_test, y_train, y_test = train_test_split(x, y, \n",
    "    test_size=0.4, \n",
    "    random_state=42, stratify=y)"
   ]
  },
  {
   "cell_type": "code",
   "execution_count": null,
   "metadata": {
    "id": "1a6615f0-566e-4a3d-aefe-595fd5e0123a",
    "tags": []
   },
   "outputs": [],
   "source": [
    "# fit the model\n",
    "\n",
    "import sklearn.pipeline\n",
    "from sklearn.preprocessing import OneHotEncoder\n",
    "\n",
    "random_forest = RandomForestClassifier()\n",
    "steps = [('mapper', mapper),('RandonForestClassifier', random_forest)]\n",
    "pipeline = sklearn.pipeline.Pipeline(steps)\n",
    "model=pipeline.fit( X_train, y_train )\n",
    "model"
   ]
  },
  {
   "cell_type": "code",
   "execution_count": null,
   "metadata": {
    "id": "da33184b-0fee-4b30-8305-b84ab85c04d6",
    "tags": []
   },
   "outputs": [],
   "source": [
    "### call pipeline.predict() on your X_test data to make a set of test predictions\n",
    "y_prediction = pipeline.predict( X_test )\n",
    "\n",
    "### test your predictions using sklearn.classification_report()\n",
    "\n",
    "report = sklearn.metrics.classification_report( y_test, y_prediction )\n",
    "### and print the report\n",
    "print(report)"
   ]
  },
  {
   "cell_type": "markdown",
   "metadata": {
    "id": "6852b416-2323-4c62-90f7-6e813a232465"
   },
   "source": [
    "### Evaluate\n",
    "\n",
    "Accuracy of the trained model is very good so we can now decide to deploy this model to be used by the applications."
   ]
  },
  {
   "cell_type": "markdown",
   "metadata": {
    "id": "cc113645-5870-49a3-aa81-c9bcbc613132",
    "tags": []
   },
   "source": [
    "## Step 3 - WML Deployment\n",
    "In the next set of cells, we deploy the trained model using Watson Machine Learning into the space associated with the current environment."
   ]
  },
  {
   "cell_type": "code",
   "execution_count": null,
   "metadata": {
    "id": "dee52b2d-b2d5-4160-b951-d3d5890bbdec",
    "tags": []
   },
   "outputs": [],
   "source": [
    "import os\n",
    "cpdtoken=os.environ['USER_ACCESS_TOKEN']\n",
    "wml_credentials = {\n",
    "\"token\": cpdtoken,\n",
    "\"instance_id\" : \"openshift\",\n",
    "\"url\": os.environ['RUNTIME_ENV_APSX_URL'],\n",
    "\"version\": \"4.0\"\n",
    "}\n",
    "\n",
    "from ibm_watson_machine_learning import APIClient\n",
    "client = APIClient(wml_credentials)"
   ]
  },
  {
   "cell_type": "code",
   "execution_count": null,
   "metadata": {
    "id": "4092b0de-c858-42b8-be1a-8de4bf73bf96",
    "tags": []
   },
   "outputs": [],
   "source": [
    "# Associate WML client with current project\n",
    "project_id = os.environ['PROJECT_ID']\n",
    "client.set.default_project(project_id)"
   ]
  },
  {
   "cell_type": "code",
   "execution_count": null,
   "metadata": {
    "id": "1d3bc7e4-8a50-4166-8bc5-3387ecea4289",
    "tags": []
   },
   "outputs": [],
   "source": [
    "# Specify a name for the space being created, the saved model and the model deployment\n",
    "space_name = 'churn-' + CURRENT_ENV\n",
    "model_name = 'churn_pipeline'\n",
    "deployment_name = 'churn_pipeline_deployment'\n",
    "\n",
    "use_existing_space=True"
   ]
  },
  {
   "cell_type": "code",
   "execution_count": null,
   "metadata": {
    "id": "ac6c4d20-9b63-4cbe-b337-3c5f94fbe654",
    "tags": []
   },
   "outputs": [],
   "source": [
    "from ibm_watson_machine_learning import APIClient\n",
    "import os\n",
    "import time\n",
    "\n",
    "token = os.environ['USER_ACCESS_TOKEN']\n",
    "\n",
    "wml_credentials = {\n",
    "   \"token\": token,\n",
    "   \"instance_id\" : \"openshift\",\n",
    "   \"url\": os.environ['RUNTIME_ENV_APSX_URL'],\n",
    "   \"version\": \"4.0\"\n",
    "}\n",
    "\n",
    "client = APIClient(wml_credentials)"
   ]
  },
  {
   "cell_type": "markdown",
   "metadata": {
    "id": "89a20524-2ed8-4b47-b01f-785b091173a1"
   },
   "source": [
    "### Create the deployment space if it doesn't exist yet"
   ]
  },
  {
   "cell_type": "code",
   "execution_count": null,
   "metadata": {
    "id": "ef69ffa2-8e62-44a6-91f3-ba7d17f9139c",
    "tags": []
   },
   "outputs": [],
   "source": [
    "space_uid = \"\"\n",
    "for space in client.spaces.get_details()['resources']:\n",
    "\n",
    "    if space['entity']['name'] ==space_name:\n",
    "        print(\"Deployment space with name\",space_name,\"already exists . .\")\n",
    "        space_uid=space['metadata']['id']\n",
    "        client.set.default_space(space_uid)\n",
    "        if(use_existing_space==False):\n",
    "\n",
    "            for deployment in client.deployments.get_details()['resources']:\n",
    "                print(\"Deleting deployment\",deployment['entity']['name'], \"in the space\",)\n",
    "                deployment_id=deployment['metadata']['id']\n",
    "                client.deployments.delete(deployment_id)\n",
    "            print(\"Deleting Space \",space_name,)\n",
    "            client.spaces.delete(space_uid)\n",
    "            time.sleep(5)\n",
    "        else:\n",
    "            print(\"Using the existing space\")\n",
    "\n",
    "if (space_uid == \"\" or use_existing_space == False):\n",
    "    print(\"\\nCreating a new deployment space -\",space_name)\n",
    "    # create the space and set it as default\n",
    "    space_meta_data = {\n",
    "        client.spaces.ConfigurationMetaNames.NAME : space_name\n",
    "\n",
    "        }\n",
    "\n",
    "    stored_space_details = client.spaces.store(space_meta_data)\n",
    "\n",
    "    space_uid = stored_space_details['metadata']['id']\n",
    "\n",
    "    client.set.default_space(space_uid)"
   ]
  },
  {
   "cell_type": "code",
   "execution_count": null,
   "metadata": {
    "id": "48873854-eabc-4f95-829a-b63f2b721b1d",
    "tags": []
   },
   "outputs": [],
   "source": [
    "client.software_specifications.list()"
   ]
  },
  {
   "cell_type": "code",
   "execution_count": null,
   "metadata": {
    "id": "93a1d328-202d-4e90-b1f5-fb1c2c538c76",
    "tags": []
   },
   "outputs": [],
   "source": [
    "software_spec_uid = client.software_specifications.get_uid_by_name('runtime-22.1-py3.9')\n",
    "\n",
    "metadata = {\n",
    "    client.repository.ModelMetaNames.NAME: model_name,\n",
    "    client.repository.ModelMetaNames.SOFTWARE_SPEC_UID: software_spec_uid,\n",
    "    client.repository.ModelMetaNames.TYPE: \"scikit-learn_1.0\"\n",
    "}\n",
    "\n",
    "stored_model_details = client.repository.store_model(pipeline,\n",
    "                                               meta_props=metadata,\n",
    "                                               training_data=X_train,\n",
    "                                               training_target=y_train)"
   ]
  },
  {
   "cell_type": "code",
   "execution_count": null,
   "metadata": {
    "id": "828c3f33-e0fc-4fc6-8b78-0a5cd56aaaa1",
    "tags": []
   },
   "outputs": [],
   "source": [
    "# Confirm the model is stored in WML repository\n",
    "client.repository.list_models()"
   ]
  },
  {
   "cell_type": "code",
   "execution_count": null,
   "metadata": {
    "id": "4e1de875-41cf-41a0-9ff0-900be546d4ea",
    "tags": []
   },
   "outputs": [],
   "source": [
    "stored_model_details"
   ]
  },
  {
   "cell_type": "code",
   "execution_count": null,
   "metadata": {
    "id": "0b1a7a32-17b1-43fe-a89a-0e7c33262586",
    "tags": []
   },
   "outputs": [],
   "source": [
    "# Deploy the model\n",
    "deploy_metadata = {\n",
    "    client.deployments.ConfigurationMetaNames.NAME: deployment_name,\n",
    "    client.deployments.ConfigurationMetaNames.ONLINE: {}\n",
    "}\n",
    "\n",
    "published_model_uid = client.repository.get_model_uid(stored_model_details)\n",
    "created_deployment = client.deployments.create(published_model_uid, meta_props=deploy_metadata)\n"
   ]
  },
  {
   "cell_type": "code",
   "execution_count": null,
   "metadata": {
    "id": "3a889398-b154-4e88-8ce5-0cd13f6d0ac4",
    "tags": []
   },
   "outputs": [],
   "source": [
    "deployment_uid = client.deployments.get_uid(created_deployment)\n",
    "scoring_endpoint = client.deployments.get_scoring_href(created_deployment)\n",
    "print(scoring_endpoint)"
   ]
  },
  {
   "cell_type": "markdown",
   "metadata": {
    "id": "3cd0b507-77c3-463f-8ae2-043a57342903"
   },
   "source": [
    "### Delete the old deployments of the previous model(s)"
   ]
  },
  {
   "cell_type": "code",
   "execution_count": null,
   "metadata": {
    "id": "bcff4e18-0d87-4012-82c4-7df8b09a95f5",
    "tags": []
   },
   "outputs": [],
   "source": [
    "for deployment in client.deployments.get_details()['resources']:\n",
    "    if (deployment['metadata']['name']==deployment_name) and (deployment['metadata']['id'] != deployment_uid):\n",
    "        print('Deployment '+ deployment['metadata']['id'] + ' will be deleted')\n",
    "        client.deployments.delete(deployment['metadata']['id'])"
   ]
  },
  {
   "cell_type": "markdown",
   "metadata": {
    "id": "7596aacf-f6f1-4129-b4aa-dffdf479b91e"
   },
   "source": [
    "### Delete previous models"
   ]
  },
  {
   "cell_type": "code",
   "execution_count": null,
   "metadata": {
    "id": "65dc4d80-de22-4286-b323-fbe8b95d4464",
    "tags": []
   },
   "outputs": [],
   "source": [
    "for model in client.repository.get_model_details()['resources']:\n",
    "    if (model['metadata']['name']==model_name) and (model['metadata']['id'] != stored_model_details['metadata']['id']):\n",
    "        print('Model '+ model['metadata']['id'] + ' will be deleted')\n",
    "        client.repository.delete(model['metadata']['id'])"
   ]
  },
  {
   "cell_type": "markdown",
   "metadata": {
    "id": "8121f8bd-3b51-4eff-a8e5-c4870e30675e"
   },
   "source": [
    "### List remaining models and deployments"
   ]
  },
  {
   "cell_type": "code",
   "execution_count": null,
   "metadata": {
    "id": "86b30aa8-aa30-416a-8f8b-0f342aa12e3f",
    "tags": []
   },
   "outputs": [],
   "source": [
    "client.repository.list_models()\n",
    "client.deployments.list()"
   ]
  },
  {
   "cell_type": "markdown",
   "metadata": {
    "id": "ee7c0d74-bfa9-4771-a6eb-d0bc16a4a7d6"
   },
   "source": [
    "### Run a test score of the newly deployed model"
   ]
  },
  {
   "cell_type": "code",
   "execution_count": null,
   "metadata": {
    "id": "cacb791b-fcff-4a2c-8500-4b06ecaaf729",
    "tags": []
   },
   "outputs": [],
   "source": [
    "# Score the model on a test dataset\n",
    "scoring_payload = {\n",
    "    \"input_data\": [{\n",
    "        'fields': ['LONGDISTANCE', 'INTERNATIONAL', 'LOCAL', 'DROPPED', 'PAYMETHOD', \n",
    "                   'LOCALBILLTYPE', 'LONGDISTANCEBILLTYPE', 'CHILDREN', 'CAROWNER'],\n",
    "        'values': [[28,0,60,0,\"Auto\",\"FreeLocal\",\"Standard\",1,\"N\"]]}]\n",
    "}\n"
   ]
  },
  {
   "cell_type": "code",
   "execution_count": null,
   "metadata": {
    "id": "95986a71-4ba1-4f3b-b835-bc62e183e617",
    "tags": []
   },
   "outputs": [],
   "source": [
    "predictions = client.deployments.score(deployment_uid, scoring_payload)\n",
    "print(json.dumps(predictions, indent=2))"
   ]
  }
 ],
 "metadata": {
  "kernelspec": {
   "display_name": "Python 3.10",
   "language": "python",
   "name": "python3"
  },
  "language_info": {
   "codemirror_mode": {
    "name": "ipython",
    "version": 3
   },
   "file_extension": ".py",
   "mimetype": "text/x-python",
   "name": "python",
   "nbconvert_exporter": "python",
   "pygments_lexer": "ipython3",
   "version": "3.10.6"
  }
 },
 "nbformat": 4,
 "nbformat_minor": 4
}
